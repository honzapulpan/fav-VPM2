{
 "cells": [
  {
   "cell_type": "markdown",
   "metadata": {},
   "source": [
    "# Epidemiologické modely\n",
    "\n",
    "*KMA/VPM2*\n",
    "\n",
    "*Jan Půlpán*"
   ]
  },
  {
   "cell_type": "markdown",
   "metadata": {},
   "source": [
    "## Úvod\n",
    "\n",
    "- úvod, základní popis šuplíkových modelů\n",
    "- popis základního SIR - obecný (na co se používá a jak, nejen epidemiologie)\n",
    "- různá rozšíření základního modelu\n",
    "\n",
    "- Existuje spousta variací SIR modelů, ukažme si v krátkosti některé z nich:\n",
    "    \n",
    "    - konstatní populace vs. vitální dynamika (zahrnuje narození a úmrtí populace)\n",
    "    - SIS (po recovery nenásleduje imunita)\n",
    "    - SIRS (po recovery je jen krátká imunita) - tímhle bych se chtěl zabývat-- SEIS/SEIR (existuje latetní období, kdy nakažená osoba není infekční)\n",
    "    - MSIR (děti se mohou rodit s imunitou)\n",
    "\n",
    "\n",
    "- obecně tyto deterministrické modely pomocí ODE jdou použít v případě, že zahrnují velkou populaci (v matematickém měřítku snad i limitně nekonečnou, viz konec článku z wikipedie)\n",
    "\n",
    "\n",
    "Zabýváme se \"přihrádkovými\" modely pro epidemiologii, kdy se populace dělí do jednotlivých přihrádek (=kategorií). \n",
    "\n",
    "Nejzákladnější model s kterým přišli v roce 1927 Kermack a McKendrick [citace] se označuje SIR. Jednotlivé písmena označují kategorie, S z anglického **S**usceptible (náchylný, myšleno k nákaze), I jako **I**nfectious (infekční) a R jako **R**ecovered (zotavený) někdy také Removed."
   ]
  },
  {
   "cell_type": "markdown",
   "metadata": {},
   "source": [
    "## SIR model\n",
    "\n",
    "\n",
    "* přidat obrázek se šuplíkama (SIR)\n",
    "\n",
    "\\begin{align*}\n",
    "S' &= - \\beta I S,\\\\\n",
    "I' &= \\beta I S - \\gamma I,\\\\\n",
    "R' &= \\gamma I\\\\\n",
    "\\end{align*}\n",
    "\n",
    "\n",
    "Vysvětli, proč to dělím N (???)\n",
    "\n",
    "\\begin{align*}\n",
    "S' &= - \\frac{\\beta I S}{N},\\\\\n",
    "I' &= \\frac{\\beta I S}{N} - \\gamma I,\\\\\n",
    "R' &= \\gamma I\\\\\n",
    "\\end{align*}\n",
    "\n",
    "- popis soustavy SIR, co a jak znamená\n",
    "- jaké jsou steady state solution (nulový klidový stav, endemický stabilní state)\n",
    "- $R_0$ číslo\n",
    "- ukazát jednoduchou numeriku, SIR graf + Stackplot\n",
    "\n",
    "\n",
    "- soustava je nelineární\n",
    "- existuje analytické řešení\n",
    "    - dá se redukovat, protože $S(t) + I(t) + R(t) = konst. = N$\n",
    "    - vypsat jak vypadá analytické řešení\n",
    "- základní reprodukční číslo $R_0 = \\frac{\\beta}{\\gamma}$\n",
    "- steady-state solutions\n"
   ]
  },
  {
   "cell_type": "code",
   "execution_count": 27,
   "metadata": {},
   "outputs": [],
   "source": [
    "%matplotlib inline\n",
    "import numpy as np\n",
    "import pandas as pd\n",
    "from scipy.integrate import ode, solve_ivp\n",
    "import matplotlib.pyplot as plt\n",
    "from ipywidgets import interactive\n",
    "import ipywidgets as widgets\n",
    "from IPython.display import Markdown, display\n",
    "\n",
    "plt.style.use(\"ggplot\")"
   ]
  },
  {
   "cell_type": "markdown",
   "metadata": {},
   "source": [
    "## Základní SIR model\n",
    "\n",
    "Model rozděluje populaci do tří přihrádek (compartments):\n",
    "- **S** z anglického Susceptible - náchylný, myšleno k nákaze,\n",
    "- **I** jako Infectious - infekční, \n",
    "- **R** jako Removed - odstraněný, myšleno již neinfekční.\n",
    "\n",
    "Celkovou populaci značíme $N$ a pro základní SIR model, kdy zanedbáváme běžné přírustky a úbytky populace mimo epidemii, pro ní v jakémkoliv čase platí $N=S(t)+I(t)+R(t)$.\n",
    "\n",
    "Jednotlivé přihrádky jsou svázány pomocí soustavy 3 direfenciálních rovnic.\n",
    "\n",
    "\\begin{align*}\n",
    "\\frac{dS}{dt} &= - \\frac{\\beta I S}{N},\\\\\n",
    "\\frac{dI}{dt} &= \\frac{\\beta I S}{N} - \\gamma I,\\\\\n",
    "\\frac{dR}{dt} &= \\gamma I\\\\\n",
    "\\end{align*}\n",
    "\n",
    "Kde $\\beta$ je koeficient tempa růstu nakažených. V našem případě, kdy vztah udávající přírůstek infekčních dělíme velikostí populace $N$, udává průměrné množství osobních kontaktů za jednotku času (obvykle jeden den). Koeficient tempa zotavení $\\gamma$ pak odpovídá průměrnému počtu dní, kdy je jeden člen populace infekční (značíme $D$). Platí pak $\\gamma = \\frac{1}{D}$. \n",
    "\n",
    "*Popsat $R_0$*"
   ]
  },
  {
   "cell_type": "code",
   "execution_count": 64,
   "metadata": {},
   "outputs": [
    {
     "data": {
      "application/vnd.jupyter.widget-view+json": {
       "model_id": "04b4bb5572c148018b8a282c277016df",
       "version_major": 2,
       "version_minor": 0
      },
      "text/plain": [
       "interactive(children=(FloatSlider(value=0.1, description='beta', max=1.0, step=0.05), FloatSlider(value=0.05, …"
      ]
     },
     "metadata": {},
     "output_type": "display_data"
    }
   ],
   "source": [
    "N = 1000        # velikost populace\n",
    "R0 = 0          # počáteční podmínka pro R\n",
    "I0 = 10         # počáteční podmínka pro I\n",
    "S0 = N-I0-R0    # počáteční podmínka pro S\n",
    "max_time = 400  # maximální ča, pro který model počítat\n",
    "\n",
    "# definice modelu\n",
    "def sir_ode(times,ivs,params):\n",
    "    beta, gamma = params\n",
    "    S,I,R = ivs\n",
    "    N = S+I+R\n",
    "    # ODEs\n",
    "    dS = -beta*S*I/N\n",
    "    dI = beta*S*I/N-gamma*I\n",
    "    dR = gamma*I\n",
    "    return [dS,dI,dR]\n",
    "\n",
    "\n",
    "def sir_solve(beta, gamma):\n",
    "    fig = plt.figure(figsize=(35,12))\n",
    "    ax1 = fig.add_subplot(121)\n",
    "    ax2 = fig.add_subplot(122)\n",
    "\n",
    "    params = [beta, gamma]\n",
    "    ivs = [S0,I0,R0]\n",
    "    time = np.linspace(0,max_time,801)\n",
    "\n",
    "    sir_sol = solve_ivp(fun=lambda t, y: sir_ode(t, y, params), \n",
    "                    t_span=[min(time),max(time)], \n",
    "                    y0=ivs, \n",
    "                    t_eval=time)\n",
    "\n",
    "    t_sol = sir_sol['t']\n",
    "    s_sol = sir_sol['y'][0]\n",
    "    i_sol = sir_sol['y'][1]\n",
    "    r_sol = sir_sol['y'][2]\n",
    "\n",
    "\n",
    "    splot = ax1.plot(t_sol, s_sol, color='blue', linewidth=2, label='S')\n",
    "    iplot = ax1.plot(t_sol, i_sol, color='red', linewidth=2, label='I')\n",
    "    rplot = ax1.plot(t_sol, r_sol, color='green', linewidth=2, label='R')\n",
    "    \n",
    "    display(Markdown(r'$R_O$ = '+str(beta/gamma)))\n",
    "    display(Markdown(r'$D$ = '+str(1/gamma)))\n",
    "    \n",
    "    plt.xlabel(\"t\",fontweight=\"bold\")\n",
    "    legend = ax1.legend(loc=5,bbox_to_anchor=(1.1,0.5))\n",
    "    frame = legend.get_frame()\n",
    "    frame.set_facecolor(\"white\")\n",
    "\n",
    "    pal = [\"#AA0000\", \"#00AA00\", \"#0000AA\"]\n",
    "    ax2.stackplot(t_sol,i_sol,r_sol,s_sol,colors=pal, alpha=0.5)\n",
    "    plt.show()\n",
    "    \n",
    "interactive_plot = interactive(sir_solve, \n",
    "                               beta = widgets.FloatSlider(min=0, max=1, step=.05, value=0.1), \n",
    "                               gamma = widgets.FloatSlider(min=.01, max=.3, step=.01, value=0.05))\n",
    "output = interactive_plot.children[-1]\n",
    "interactive_plot"
   ]
  },
  {
   "cell_type": "markdown",
   "metadata": {},
   "source": [
    "## SIRS model s vitální dynamikou\n",
    "\n",
    "Upravíme náš SIR model tak, že získaná imunita (přihrádka R) není na vždy, ale někteří již neinfekční a odstranění jedinci se znovu stávají náchylnými. Takovýto model se nazývá SIRS. Parametr $\\nu$\n",
    "\n",
    "Jednoduchý SIR model neuvažuje natalitu $\\Lambda$ (počet nově narozených za rok) a mortalitu $\\mu$ (podíl zemřelých za rok) protože je epidemie většinou dostatečně rychlá na to, aby dynamika těchto procesů mohla být zanedbána. My oba parametry teď ale zahrneme do SIRS modelu, mortalitu navíc nastavíme zvlášť pro jednotlivé S,I a R přihrádky. Zachováme ale konstatní velikost populace $N$, pomocí nastavení $\\Lambda = \\mu_1 S + \\mu_2 I + \\mu_3 R$.\n",
    "\n",
    "Náš SIRS model vydadá nyní takto:\n",
    "\n",
    "\\begin{align*}\n",
    "S' &= \\Lambda - \\frac{\\beta I S}{N} - \\mu_1 S + \\nu R,\\\\\n",
    "I' &= \\frac{\\beta I S}{N} - \\mu_2 I - \\gamma I,\\\\\n",
    "R' &= \\gamma I - (\\mu_3 + \\nu) R.\\\\\n",
    "\\end{align*}\n",
    "\n",
    "\n",
    "Protože máme konstatní populaci a natalita kompenzuje mortalitu, rovnice můžeme upravit do tvaru\n",
    "\n",
    "\\begin{align*}\n",
    "S' &= - \\frac{\\beta I S}{N} + \\mu_2 I + (\\mu_3 +\\nu) R,\\\\\n",
    "I' &= \\frac{\\beta I S}{N} - (\\mu_2 + \\gamma) I,\\\\\n",
    "R' &= \\gamma I - (\\mu_3 + \\nu) R.\\\\\n",
    "\\end{align*}\n",
    "\n",
    "\n"
   ]
  },
  {
   "cell_type": "code",
   "execution_count": 94,
   "metadata": {},
   "outputs": [
    {
     "data": {
      "application/vnd.jupyter.widget-view+json": {
       "model_id": "7c488e15614a471cbf0bb95ea069b274",
       "version_major": 2,
       "version_minor": 0
      },
      "text/plain": [
       "interactive(children=(FloatSlider(value=0.1, description='beta', max=1.0, step=0.05), FloatSlider(value=0.05, …"
      ]
     },
     "metadata": {},
     "output_type": "display_data"
    }
   ],
   "source": [
    "N = 1000        # velikost populace\n",
    "R0 = 0          # počáteční podmínka pro R\n",
    "I0 = 10         # počáteční podmínka pro I\n",
    "S0 = N-I0-R0    # počáteční podmínka pro S\n",
    "max_time = 400  # maximální ča, pro který model počítat\n",
    "\n",
    "def sirs_ode(t,ivs,params):\n",
    "    beta, gamma, mu2, mu3, nu = params\n",
    "    S,I,R = ivs\n",
    "    N = S+I+R\n",
    "    # ODEs\n",
    "    dS = -beta*S*I/N + mu2*I + (mu3+nu)*R\n",
    "    dI = beta*S*I/N-(mu2+gamma)*I\n",
    "    dR = gamma*I-(mu3+nu)*R\n",
    "    return [dS,dI,dR]\n",
    "\n",
    "def sirs_solve(beta, gamma, mu_2, mu_3, nu):\n",
    "    fig = plt.figure(figsize=(35,12))\n",
    "    ax1 = fig.add_subplot(121)\n",
    "    ax2 = fig.add_subplot(122)\n",
    "\n",
    "    \n",
    "    params = [beta, gamma, mu_2, mu_3, nu]\n",
    "    ivs = [S0,I0,R0]\n",
    "    time = np.linspace(0,max_time,801)\n",
    "\n",
    "    sirs_sol = solve_ivp(fun=lambda t, y: sirs_ode(t, y, params), \n",
    "                    t_span=[min(time),max(time)], \n",
    "                    y0=ivs, \n",
    "                    t_eval=time)\n",
    "\n",
    "    t_sol = sirs_sol['t']\n",
    "    s_sol = sirs_sol['y'][0]\n",
    "    i_sol = sirs_sol['y'][1]\n",
    "    r_sol = sirs_sol['y'][2]\n",
    "\n",
    "\n",
    "    splot = ax1.plot(t_sol, s_sol, color='blue', linewidth=2, label='S')\n",
    "    iplot = ax1.plot(t_sol, i_sol, color='red', linewidth=2, label='I')\n",
    "    rplot = ax1.plot(t_sol, r_sol, color='green', linewidth=2, label='R')\n",
    "    \n",
    "    display(Markdown(r'$R_O$ = '+str(beta/(mu_2 +gamma)))) \n",
    "    display(Markdown(r'$D_i$ = '+str(1/gamma)))\n",
    "    display(Markdown(r'$D_r$ = '+str(1/nu)))\n",
    "\n",
    "    plt.xlabel(\"t\",fontweight=\"bold\")\n",
    "    legend = ax1.legend(loc=5,bbox_to_anchor=(1.1,0.5))\n",
    "    frame = legend.get_frame()\n",
    "    frame.set_facecolor(\"white\")\n",
    "\n",
    "    pal = [\"#AA0000\", \"#00AA00\", \"#0000AA\"]\n",
    "    ax2.stackplot(t_sol,i_sol,r_sol,s_sol,colors=pal, alpha=0.5)\n",
    "    plt.show()\n",
    "    \n",
    "interactive_plot = interactive(sirs_solve, \n",
    "                               beta = widgets.FloatSlider(min=0, max=1, step=.05, value=0.1), \n",
    "                               gamma = widgets.FloatSlider(min=.01, max=.3, step=.01, value=0.05),\n",
    "                               mu_2 = widgets.FloatSlider(min=0, max=.02, step=.005, value=0.01, readout_format='.3f'),\n",
    "                               mu_3 = widgets.FloatSlider(min=0, max=0.01, step=0.002, value=0.01, readout_format='.3f'), # najít typickou mortalitu\n",
    "                               nu = widgets.FloatLogSlider(min=-3, \n",
    "                                                           max=0, \n",
    "                                                           base=10, \n",
    "                                                           step=.02, \n",
    "                                                           value=0.01, \n",
    "                                                           description='nu')) # zjistit, co přesně znamená nu, a jakou má hodnotu\n",
    "output = interactive_plot.children[-1]\n",
    "\n",
    "interactive_plot"
   ]
  },
  {
   "cell_type": "markdown",
   "metadata": {},
   "source": [
    "**Závěry:**\n",
    "- pokud je $\\nu=0$ (máme tedy SIR model) tak se projeví mortalita ... ???\n",
    "- protože je mortalita kompenzovaná natalitou, tak se mi vůbec neprojevuje, nebo jen v extrémně vysokých případech mortality\n",
    "- předchozí neni pravda, projevuje se to, pokud je nu nízké (imunita se ztrácí za dlouho)\n",
    "\n",
    "\n",
    "- díky tomu, že se vrací R ––> S, vzniká mi endemický stacionární stav\n",
    "\n",
    "- měnit mortalitu na I nedává smysl, protožej je kompenzovaná natalitou a to neodpovídá skutečnosti"
   ]
  },
  {
   "cell_type": "code",
   "execution_count": 45,
   "metadata": {},
   "outputs": [
    {
     "data": {
      "text/plain": [
       "2.74e-05"
      ]
     },
     "execution_count": 45,
     "metadata": {},
     "output_type": "execute_result"
    }
   ],
   "source": [
    "np.round(0.01/365, 8)"
   ]
  },
  {
   "cell_type": "markdown",
   "metadata": {},
   "source": [
    "# SIRS s časově závislým $\\beta$"
   ]
  },
  {
   "cell_type": "code",
   "execution_count": 10,
   "metadata": {},
   "outputs": [],
   "source": [
    "def sirs_bt_ode(t,init,parms):\n",
    "    b, period, g, m2, m3 = parms\n",
    "    S,I,R = init\n",
    "    N = S+I+R\n",
    "    beta = b*(1+np.cos(np.pi*2/period*t))+b\n",
    "    \n",
    "    dS = -beta*S*I/N + m2*I + m3*R\n",
    "    dI = beta*S*I/N-m2*I-g*I\n",
    "    dR = g*I-m3*R\n",
    "    \n",
    "    return [dS,dI,dR]"
   ]
  },
  {
   "cell_type": "code",
   "execution_count": 16,
   "metadata": {},
   "outputs": [
    {
     "data": {
      "application/vnd.jupyter.widget-view+json": {
       "model_id": "0756a3cc415d44eaa5c50678482bdc05",
       "version_major": 2,
       "version_minor": 0
      },
      "text/plain": [
       "interactive(children=(FloatSlider(value=0.1, description='b', max=0.5, step=0.05), IntSlider(value=300, descri…"
      ]
     },
     "metadata": {},
     "output_type": "display_data"
    }
   ],
   "source": [
    "population = 1000\n",
    "i0 = 20\n",
    "max_time = 1000\n",
    "\n",
    "natality = 0.001\n",
    "mortality = 0.001\n",
    "\n",
    "def sirs_bt_solve(b, period, g,):\n",
    "    \n",
    "    \n",
    "    #fig = plt.figure(figsize=(16,12))\n",
    "    fig = plt.figure(figsize=(35,18))\n",
    "    ax1 = fig.add_subplot(221)\n",
    "    ax2 = fig.add_subplot(222)\n",
    "    ax3 = fig.add_subplot(223)\n",
    "    \n",
    "    parms = [b, period, g, natality, mortality]\n",
    "    init = [population,i0,0]\n",
    "    time = np.linspace(0,max_time,801)\n",
    "\n",
    "    sirs_bt_sol = solve_ivp(fun=lambda t, y: sirs_bt_ode(t, y, parms), \n",
    "                    t_span=[min(time),max(time)], \n",
    "                    y0=init, \n",
    "                    t_eval=time)\n",
    "\n",
    "    t_sol = sirs_bt_sol['t']\n",
    "    s_sol = sirs_bt_sol['y'][0]\n",
    "    i_sol = sirs_bt_sol['y'][1]\n",
    "    r_sol = sirs_bt_sol['y'][2]\n",
    "\n",
    "\n",
    "    splot = ax1.plot(t_sol, s_sol, color='blue', linewidth=2, label='S')\n",
    "    iplot = ax1.plot(t_sol, i_sol, color='red', linewidth=2, label='I')\n",
    "    rplot = ax1.plot(t_sol, r_sol, color='green', linewidth=2, label='R')\n",
    "\n",
    "    plt.xlabel(\"t\",fontweight=\"bold\")\n",
    "    #plt.ylabel(\"Number\",fontweight=\"bold\")\n",
    "    legend = ax1.legend(loc=5,bbox_to_anchor=(1.1,0.5))\n",
    "    frame = legend.get_frame()\n",
    "    frame.set_facecolor(\"white\")\n",
    "    frame.set_linewidth(0)\n",
    "#    plt.show()\n",
    "\n",
    "    pal = [\"#AA0000\", \"#00AA00\", \"#0000AA\"]\n",
    "    #plt.stackplot(sir_sol['t'],sir_sol['y'][1],sir_sol['y'][2],sir_sol['y'][0],labels=labels,colors=pal, alpha=0.5 )\n",
    "    ax2.stackplot(t_sol,i_sol,r_sol,s_sol,colors=pal, alpha=0.5)\n",
    "    \n",
    "    ax3.plot(t_sol, b*(1+np.cos(np.pi*2/period*time))+b, color='black')\n",
    "    ax3.set_ylim(0,1.55)\n",
    "    \n",
    "    plt.show()\n",
    "    \n",
    "interactive_plot = interactive(sirs_bt_solve, \n",
    "                               b=widgets.FloatSlider(min=0, max=.5, step=.05, value=0.1), \n",
    "                               period=widgets.IntSlider(min=10, max=1000, step=20, value=300), \n",
    "                               g=widgets.FloatSlider(min=0, max=.1, step=.01, value=0.05))\n",
    "output = interactive_plot.children[-1]\n",
    "output.layout.height = '1050px'\n",
    "interactive_plot"
   ]
  },
  {
   "cell_type": "markdown",
   "metadata": {},
   "source": [
    "Ještě přidat vakcinaci: http://hplgit.github.io/prog4comp/doc/pub/._p4c-solarized-Python021.html"
   ]
  },
  {
   "cell_type": "markdown",
   "metadata": {},
   "source": [
    "Zdroje:\n",
    "- Wikipedia: https://en.wikipedia.org/wiki/Compartmental_models_in_epidemiology#The_SIR_model\n",
    "- "
   ]
  }
 ],
 "metadata": {
  "kernelspec": {
   "display_name": "Python 3",
   "language": "python",
   "name": "python3"
  },
  "language_info": {
   "codemirror_mode": {
    "name": "ipython",
    "version": 3
   },
   "file_extension": ".py",
   "mimetype": "text/x-python",
   "name": "python",
   "nbconvert_exporter": "python",
   "pygments_lexer": "ipython3",
   "version": "3.8.2"
  }
 },
 "nbformat": 4,
 "nbformat_minor": 4
}
