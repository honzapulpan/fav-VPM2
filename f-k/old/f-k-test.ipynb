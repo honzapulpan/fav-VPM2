{
 "cells": [
  {
   "cell_type": "markdown",
   "metadata": {},
   "source": [
    "# Fisherova-Kolmogorovova rovnice"
   ]
  },
  {
   "cell_type": "code",
   "execution_count": 1,
   "metadata": {},
   "outputs": [
    {
     "data": {
      "application/vnd.jupyter.widget-view+json": {
       "model_id": "17d808e4d63e4ae3bf595f9c4d50e484",
       "version_major": 2,
       "version_minor": 0
      },
      "text/plain": [
       "interactive(children=(FloatSlider(value=2.0, description='c', max=3.0, min=1.0, step=0.2), Output()), _dom_cla…"
      ]
     },
     "metadata": {},
     "output_type": "display_data"
    }
   ],
   "source": [
    "import numpy as np\n",
    "from scipy import integrate\n",
    "import matplotlib.pyplot as plt\n",
    "from sympy.core.symbol import symbols\n",
    "from sympy.solvers.solveset import nonlinsolve\n",
    "from sympy import init_printing\n",
    "from IPython.display import Markdown, display\n",
    "from ipywidgets import interactive\n",
    "import ipywidgets as widgets\n",
    "\n",
    "init_printing(use_latex='mathjax')\n",
    "\n",
    "plt.rcParams['figure.figsize'] = [17, 10]\n",
    "\n",
    "\n",
    "def fkeq(c):\n",
    "    # soustava diferencialnich rovnic\n",
    "    def f(t, y):\n",
    "        y1, y2 = y\n",
    "        return [y2, -c*y2-y1*(1-y1)]\n",
    "\n",
    "\n",
    "    # nalezeni klidovych stavu\n",
    "    ys1, ys2 = symbols('ys1, ys2', real=True)\n",
    "    stable = nonlinsolve([ys2, -c*ys2-ys1*(1-ys1)], [ys1, ys2])\n",
    "    for i in range(len(stable.args)):\n",
    "        display(Markdown('Stacionární bod '+str(i+1)+': $('+str(stable.args[i][0])+','+str(stable.args[i][1])+')$'))\n",
    "\n",
    "    # vykresleni vektoroveho pole\n",
    "    y1, y2 = np.meshgrid(np.linspace(-.3, 1.4, 20), np.linspace(-.3, .4, 20))\n",
    "    u, v = np.zeros(y1.shape), np.zeros(y2.shape)\n",
    "    m, n = y1.shape\n",
    "    t = 0\n",
    "    for i in range(m):\n",
    "        for j in range(n):\n",
    "            u[i,j], v[i,j] = f(t, [y1[i, j], y2[i, j]])\n",
    "\n",
    "    plt.quiver(y1, y2, u, v, color='lightgray')\n",
    "\n",
    "    # vykresleni klidovych stavu a fazoveho portretu\n",
    "    for s in range(len(stable.args)):\n",
    "            for r in np.linspace(.1,1,10):\n",
    "                for phi in np.linspace(0, 2*np.pi, int(np.random.rand()*10+6)):\n",
    "                    sol = integrate.solve_ivp(f,[0,5], \n",
    "                                              [r*np.cos(phi)+stable.args[s][0],\n",
    "                                               r*np.sin(phi)+stable.args[s][1]], \n",
    "                                               t_eval=np.linspace(0,5,100))\n",
    "                    plt.plot(sol.y[0], sol.y[1], 'k-')\n",
    "                    plt.plot([sol.y[0][0]], [sol.y[1][0]], 'ko')\n",
    "\n",
    "\n",
    "    sol = integrate.solve_ivp(f,[0,35], \n",
    "                            [stable.args[1][0]-.0001, stable.args[1][1]-.0001], \n",
    "                            t_eval=np.linspace(0,35,100))\n",
    "    plt.plot(sol.y[0], sol.y[1], 'g-', linewidth=6)\n",
    "    plt.plot([sol.y[0][0]], [sol.y[1][0]], 'go')\n",
    "\n",
    "    for s in range(len(stable.args)):\n",
    "        if stable.args[s][0].is_real and stable.args[s][1].is_real:\n",
    "            plt.plot(stable.args[s][0], stable.args[s][1], marker=\".\", color='red', markersize=20)\n",
    "\n",
    "    plt.xlim([-.3, 1.4])\n",
    "    plt.ylim([-.3, .4])\n",
    "    plt.xlabel('$U$')\n",
    "    plt.ylabel('$V=U\\'$')\n",
    "    plt.show()\n",
    "\n",
    "\n",
    "interactive_plot = interactive(fkeq, \n",
    "                               c = widgets.FloatSlider(min=1, max=3, step=.2, value=2)) \n",
    "output = interactive_plot.children[-1]\n",
    "interactive_plot"
   ]
  },
  {
   "cell_type": "code",
   "execution_count": 2,
   "metadata": {},
   "outputs": [
    {
     "ename": "NameError",
     "evalue": "name 'sol' is not defined",
     "output_type": "error",
     "traceback": [
      "\u001b[0;31m---------------------------------------------------------------------------\u001b[0m",
      "\u001b[0;31mNameError\u001b[0m                                 Traceback (most recent call last)",
      "\u001b[0;32m<ipython-input-2-3b1c8b15db52>\u001b[0m in \u001b[0;36m<module>\u001b[0;34m\u001b[0m\n\u001b[0;32m----> 1\u001b[0;31m \u001b[0mplt\u001b[0m\u001b[0;34m.\u001b[0m\u001b[0mplot\u001b[0m\u001b[0;34m(\u001b[0m\u001b[0msol\u001b[0m\u001b[0;34m.\u001b[0m\u001b[0my\u001b[0m\u001b[0;34m[\u001b[0m\u001b[0;36m0\u001b[0m\u001b[0;34m]\u001b[0m\u001b[0;34m)\u001b[0m\u001b[0;34m\u001b[0m\u001b[0;34m\u001b[0m\u001b[0m\n\u001b[0m",
      "\u001b[0;31mNameError\u001b[0m: name 'sol' is not defined"
     ]
    }
   ],
   "source": [
    "plt.plot(sol.y[0])"
   ]
  },
  {
   "cell_type": "code",
   "execution_count": null,
   "metadata": {},
   "outputs": [],
   "source": []
  }
 ],
 "metadata": {
  "kernelspec": {
   "display_name": "Python 3",
   "language": "python",
   "name": "python3"
  },
  "language_info": {
   "codemirror_mode": {
    "name": "ipython",
    "version": 3
   },
   "file_extension": ".py",
   "mimetype": "text/x-python",
   "name": "python",
   "nbconvert_exporter": "python",
   "pygments_lexer": "ipython3",
   "version": "3.8.2"
  }
 },
 "nbformat": 4,
 "nbformat_minor": 4
}
